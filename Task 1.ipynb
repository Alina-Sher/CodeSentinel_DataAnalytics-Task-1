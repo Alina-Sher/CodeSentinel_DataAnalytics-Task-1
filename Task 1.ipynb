{
 "cells": [
  {
   "cell_type": "code",
   "execution_count": 2,
   "id": "a593cfdc-881a-43d9-899a-52a0ffa247da",
   "metadata": {},
   "outputs": [
    {
     "name": "stdout",
     "output_type": "stream",
     "text": [
      "Column Names:\n",
      "['transactions_id', 'sale_date', 'sale_time', 'customer_id', 'gender', 'age', 'category', 'quantiy', 'price_per_unit', 'cogs', 'total_sale']\n",
      "\n",
      "\n",
      "Number of Rows: 2000\n",
      "\n",
      "\n",
      "Summary Statistics:\n",
      "        transactions_id   sale_date sale_time  customer_id  gender  \\\n",
      "count       2000.000000        2000      2000  2000.000000    2000   \n",
      "unique              NaN         647       766          NaN       2   \n",
      "top                 NaN  2022-12-01  21:47:00          NaN  Female   \n",
      "freq                NaN          12         9          NaN    1020   \n",
      "mean        1000.500000         NaN       NaN    66.341500     NaN   \n",
      "std          577.494589         NaN       NaN    44.937185     NaN   \n",
      "min            1.000000         NaN       NaN     1.000000     NaN   \n",
      "25%          500.750000         NaN       NaN    24.000000     NaN   \n",
      "50%         1000.500000         NaN       NaN    69.000000     NaN   \n",
      "75%         1500.250000         NaN       NaN   102.000000     NaN   \n",
      "max         2000.000000         NaN       NaN   155.000000     NaN   \n",
      "\n",
      "                age  category      quantiy  price_per_unit         cogs  \\\n",
      "count   1990.000000      2000  1997.000000     1997.000000  1997.000000   \n",
      "unique          NaN         3          NaN             NaN          NaN   \n",
      "top             NaN  Clothing          NaN             NaN          NaN   \n",
      "freq            NaN       702          NaN             NaN          NaN   \n",
      "mean      41.343216       NaN     2.512769      180.117677    95.023886   \n",
      "std       13.668167       NaN     1.132708      189.685225   121.898695   \n",
      "min       18.000000       NaN     1.000000       25.000000     6.250000   \n",
      "25%       29.000000       NaN     1.000000       30.000000    13.000000   \n",
      "50%       42.000000       NaN     3.000000       50.000000    27.500000   \n",
      "75%       53.000000       NaN     4.000000      300.000000   147.000000   \n",
      "max       64.000000       NaN     4.000000      500.000000   620.000000   \n",
      "\n",
      "         total_sale  \n",
      "count   1997.000000  \n",
      "unique          NaN  \n",
      "top             NaN  \n",
      "freq            NaN  \n",
      "mean     456.544817  \n",
      "std      560.101381  \n",
      "min       25.000000  \n",
      "25%       60.000000  \n",
      "50%      150.000000  \n",
      "75%      900.000000  \n",
      "max     2000.000000  \n"
     ]
    }
   ],
   "source": [
    "import pandas as pd\n",
    "\n",
    "# Load the DataSet\n",
    "df = pd.read_csv(r\"C:\\Users\\Dell\\Downloads\\Retail Sales Analysis.csv\")\n",
    "\n",
    "# Print Column Names\n",
    "print(\"Column Names:\")\n",
    "print(df.columns.tolist())\n",
    "print(\"\\n\")\n",
    "\n",
    "# Print Number of Rows\n",
    "print(\"Number of Rows:\", len(df))\n",
    "print(\"\\n\")\n",
    "\n",
    "# Print Summary Statistics\n",
    "print(\"Summary Statistics:\")\n",
    "print(df.describe(include=\"all\"))\n"
   ]
  },
  {
   "cell_type": "code",
   "execution_count": null,
   "id": "bc7af36e-f6a6-4c2e-b233-28d67a2f4a40",
   "metadata": {},
   "outputs": [],
   "source": []
  }
 ],
 "metadata": {
  "kernelspec": {
   "display_name": "Python 3 (ipykernel)",
   "language": "python",
   "name": "python3"
  },
  "language_info": {
   "codemirror_mode": {
    "name": "ipython",
    "version": 3
   },
   "file_extension": ".py",
   "mimetype": "text/x-python",
   "name": "python",
   "nbconvert_exporter": "python",
   "pygments_lexer": "ipython3",
   "version": "3.10.11"
  }
 },
 "nbformat": 4,
 "nbformat_minor": 5
}
